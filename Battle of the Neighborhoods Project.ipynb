{
    "cells": [
        {
            "cell_type": "markdown",
            "metadata": {
                "collapsed": true
            },
            "source": "# Battle of Neighborhoods  "
        },
        {
            "cell_type": "markdown",
            "metadata": {},
            "source": "# Introduction\nRecently, many of my friends and family members have been moving to Coimbatore from different parts of India, and other countries. They would love to move into similar localities as they used to live in. \nThe aim of this project is to find a neighborhood in the city of Coimbatore, that is similar to the neighborhood they used to live in.\n\nThis project can then be used for anybody thinking of moving into Coimbatore."
        },
        {
            "cell_type": "markdown",
            "metadata": {},
            "source": "# Data\nThe latitudes and longitudes of different locations in Coimbatore is collected using the geopy.geocoders library in python.\nThe data of venues will be collected using the Foursquare API. The features that will be extracted are what kind of shops, restaurants, parks and so on are nearby. Data will be collected about the user's current address, and then analyse which locality is most similar in Coimbatore. Using this, we can find a suitable locality to move into.  \nNo other datasets are being used."
        },
        {
            "cell_type": "markdown",
            "metadata": {},
            "source": "# Methodology"
        },
        {
            "cell_type": "markdown",
            "metadata": {},
            "source": "## Import Libraries"
        },
        {
            "cell_type": "code",
            "execution_count": 1,
            "metadata": {},
            "outputs": [],
            "source": "import numpy as np\nimport pandas as pd\nfrom geopy.geocoders import Nominatim\nimport requests\nimport json\n#!conda install -c conda-forge folium=0.5.0 --yes\nimport folium"
        },
        {
            "cell_type": "markdown",
            "metadata": {},
            "source": "## Get Latitude and Longitude of Coimbatore Localities\nThese are the major neighborhoods in Coimbatore. Their latitudes and longitudes are found using the geopy.geolocators library."
        },
        {
            "cell_type": "code",
            "execution_count": 2,
            "metadata": {},
            "outputs": [],
            "source": "cbe_localities =  ['Kovaipudur','Kuniyamuthur','RS Puram','Ukkadam','Gandhipuram','Podanur',\n                   'Ganapathy','Peelamedu','Singanallur','Saibaba Colony','Race Course']"
        },
        {
            "cell_type": "code",
            "execution_count": 3,
            "metadata": {},
            "outputs": [],
            "source": "latitudes = []\nlongitudes = []\ngeolocator = Nominatim(user_agent=\"ny_explorer\")\nfor locality in cbe_localities:\n    address = locality+', Coimbatore'\n    location = geolocator.geocode(address)\n    latitudes.append(location.latitude)\n    longitudes.append(location.longitude)"
        },
        {
            "cell_type": "markdown",
            "metadata": {},
            "source": "## Create a dataframe of Coimbatore Locations\nThe neghborhoods and their latitudes and longitudes are made into a dastaframe."
        },
        {
            "cell_type": "code",
            "execution_count": 4,
            "metadata": {},
            "outputs": [],
            "source": "column_names = ['Neighborhood', 'Latitude', 'Longitude']\ncbe_locations = pd.DataFrame(columns = column_names)"
        },
        {
            "cell_type": "code",
            "execution_count": 5,
            "metadata": {},
            "outputs": [],
            "source": "for i in range(len(cbe_localities)):\n    cbe_locations = cbe_locations.append({'Neighborhood':cbe_localities[i], 'Latitude': latitudes[i], 'Longitude': longitudes[i]},ignore_index=True)"
        },
        {
            "cell_type": "code",
            "execution_count": 6,
            "metadata": {
                "scrolled": false
            },
            "outputs": [
                {
                    "data": {
                        "text/html": "<div>\n<style scoped>\n    .dataframe tbody tr th:only-of-type {\n        vertical-align: middle;\n    }\n\n    .dataframe tbody tr th {\n        vertical-align: top;\n    }\n\n    .dataframe thead th {\n        text-align: right;\n    }\n</style>\n<table border=\"1\" class=\"dataframe\">\n  <thead>\n    <tr style=\"text-align: right;\">\n      <th></th>\n      <th>Neighborhood</th>\n      <th>Latitude</th>\n      <th>Longitude</th>\n    </tr>\n  </thead>\n  <tbody>\n    <tr>\n      <th>0</th>\n      <td>Kovaipudur</td>\n      <td>10.945415</td>\n      <td>76.939260</td>\n    </tr>\n    <tr>\n      <th>1</th>\n      <td>Kuniyamuthur</td>\n      <td>10.964104</td>\n      <td>76.956256</td>\n    </tr>\n    <tr>\n      <th>2</th>\n      <td>RS Puram</td>\n      <td>11.008018</td>\n      <td>76.950166</td>\n    </tr>\n    <tr>\n      <th>3</th>\n      <td>Ukkadam</td>\n      <td>10.989522</td>\n      <td>76.956107</td>\n    </tr>\n    <tr>\n      <th>4</th>\n      <td>Gandhipuram</td>\n      <td>11.018271</td>\n      <td>76.967774</td>\n    </tr>\n    <tr>\n      <th>5</th>\n      <td>Podanur</td>\n      <td>10.958561</td>\n      <td>76.988307</td>\n    </tr>\n    <tr>\n      <th>6</th>\n      <td>Ganapathy</td>\n      <td>11.036560</td>\n      <td>76.969257</td>\n    </tr>\n    <tr>\n      <th>7</th>\n      <td>Peelamedu</td>\n      <td>11.026958</td>\n      <td>76.994581</td>\n    </tr>\n    <tr>\n      <th>8</th>\n      <td>Singanallur</td>\n      <td>11.002859</td>\n      <td>77.023495</td>\n    </tr>\n    <tr>\n      <th>9</th>\n      <td>Saibaba Colony</td>\n      <td>11.024334</td>\n      <td>76.944788</td>\n    </tr>\n    <tr>\n      <th>10</th>\n      <td>Race Course</td>\n      <td>11.004965</td>\n      <td>76.985852</td>\n    </tr>\n  </tbody>\n</table>\n</div>",
                        "text/plain": "      Neighborhood   Latitude  Longitude\n0       Kovaipudur  10.945415  76.939260\n1     Kuniyamuthur  10.964104  76.956256\n2         RS Puram  11.008018  76.950166\n3          Ukkadam  10.989522  76.956107\n4      Gandhipuram  11.018271  76.967774\n5          Podanur  10.958561  76.988307\n6        Ganapathy  11.036560  76.969257\n7        Peelamedu  11.026958  76.994581\n8      Singanallur  11.002859  77.023495\n9   Saibaba Colony  11.024334  76.944788\n10     Race Course  11.004965  76.985852"
                    },
                    "execution_count": 6,
                    "metadata": {},
                    "output_type": "execute_result"
                }
            ],
            "source": "cbe_locations"
        },
        {
            "cell_type": "markdown",
            "metadata": {},
            "source": "## Map of Coimbatore Neighborhoods\nThis map is show where each of these neighborhoods is located."
        },
        {
            "cell_type": "code",
            "execution_count": 10,
            "metadata": {
                "scrolled": false
            },
            "outputs": [
                {
                    "data": {
                        "text/html": "<div style=\"width:100%;\"><div style=\"position:relative;width:100%;height:0;padding-bottom:60%;\"><span style=\"color:#565656\">Make this Notebook Trusted to load map: File -> Trust Notebook</span><iframe src=\"about:blank\" style=\"position:absolute;width:100%;height:100%;left:0;top:0;border:none !important;\" data-html=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 onload=\"this.contentDocument.open();this.contentDocument.write(atob(this.getAttribute('data-html')));this.contentDocument.close();\" allowfullscreen webkitallowfullscreen mozallowfullscreen></iframe></div></div>",
                        "text/plain": "<folium.folium.Map at 0x7fd597eefc50>"
                    },
                    "execution_count": 10,
                    "metadata": {},
                    "output_type": "execute_result"
                }
            ],
            "source": "location = geolocator.geocode('Coimbatore, Tamil Nadu')\nlatitude = location.latitude\nlongitude = location.longitude\n\nmap_cbe = folium.Map(location=[latitude, longitude], zoom_start=13)\n\nfor lat, lng, neighborhood in zip(cbe_locations['Latitude'], cbe_locations['Longitude'], cbe_locations['Neighborhood']):\n    label = neighborhood\n    label = folium.Popup(label, parse_html=True)\n    folium.CircleMarker(\n        [lat, lng],\n        radius=5,\n        popup=label,\n        color='blue',\n        fill=True,\n        fill_color='#3186cc',\n        fill_opacity=0.7,\n        parse_html=False).add_to(map_cbe)  \n    \nmap_cbe"
        },
        {
            "cell_type": "markdown",
            "metadata": {},
            "source": "## Use Foursquare API to get details of each locality "
        },
        {
            "cell_type": "markdown",
            "metadata": {},
            "source": "### Client Id and Client Secret \n(Hidden)"
        },
        {
            "cell_type": "markdown",
            "metadata": {},
            "source": "## Function to get the category of venue\nThis function returns what category the given venue is."
        },
        {
            "cell_type": "code",
            "execution_count": 8,
            "metadata": {},
            "outputs": [],
            "source": "def get_category_type(row):\n    try:\n        categories_list = row['categories']\n    except:\n        categories_list = row['venue.categories']\n        \n    if len(categories_list) == 0:\n        return None\n    else:\n        return categories_list[0]['name']"
        },
        {
            "cell_type": "markdown",
            "metadata": {},
            "source": "## Function to get nearby venues\nThis function is used to get the nearby venues to a given location. I used the Foursquare API explore option to get popular attractions around a given latitude and longitude."
        },
        {
            "cell_type": "code",
            "execution_count": 9,
            "metadata": {},
            "outputs": [],
            "source": "def getNearbyVenues(names, latitudes, longitudes, radius=5000, LIMIT = 100):\n    \n    venues_list=[]\n    for name, lat, lng in zip(names, latitudes, longitudes):\n        url = 'https://api.foursquare.com/v2/venues/explore?&client_id={}&client_secret={}&v={}&ll={},{}&radius={}&limit={}'.format(\n            CLIENT_ID, \n            CLIENT_SECRET, \n            VERSION, \n            lat, \n            lng, \n            radius, \n            LIMIT)\n  \n        results = requests.get(url).json()[\"response\"]['groups'][0]['items']\n        \n        venues_list.append([(\n            name, \n            lat, \n            lng, \n            v['venue']['name'], \n            v['venue']['location']['lat'], \n            v['venue']['location']['lng'],  \n            v['venue']['categories'][0]['name']) for v in results])\n\n    nearby_venues = pd.DataFrame([item for venue_list in venues_list for item in venue_list])\n    nearby_venues.columns = ['Neighborhood', \n                  'Neighborhood Latitude', \n                  'Neighborhood Longitude', \n                  'Venue', \n                  'Venue Latitude', \n                  'Venue Longitude', \n                  'Venue Category']\n    \n    return(nearby_venues)"
        },
        {
            "cell_type": "markdown",
            "metadata": {},
            "source": "## Get the Neraby Venues of Locations in Coimbatore"
        },
        {
            "cell_type": "code",
            "execution_count": 10,
            "metadata": {},
            "outputs": [],
            "source": "cbe_venues = getNearbyVenues(names=cbe_locations['Neighborhood'],\n                                   latitudes=cbe_locations['Latitude'],\n                                   longitudes=cbe_locations['Longitude']\n                                  )"
        },
        {
            "cell_type": "code",
            "execution_count": 11,
            "metadata": {},
            "outputs": [
                {
                    "data": {
                        "text/html": "<div>\n<style scoped>\n    .dataframe tbody tr th:only-of-type {\n        vertical-align: middle;\n    }\n\n    .dataframe tbody tr th {\n        vertical-align: top;\n    }\n\n    .dataframe thead th {\n        text-align: right;\n    }\n</style>\n<table border=\"1\" class=\"dataframe\">\n  <thead>\n    <tr style=\"text-align: right;\">\n      <th></th>\n      <th>Neighborhood</th>\n      <th>Neighborhood Latitude</th>\n      <th>Neighborhood Longitude</th>\n      <th>Venue</th>\n      <th>Venue Latitude</th>\n      <th>Venue Longitude</th>\n      <th>Venue Category</th>\n    </tr>\n  </thead>\n  <tbody>\n    <tr>\n      <th>0</th>\n      <td>Kovaipudur</td>\n      <td>10.945415</td>\n      <td>76.93926</td>\n      <td>Sita Paani Restaurant</td>\n      <td>10.954885</td>\n      <td>76.953049</td>\n      <td>Indian Restaurant</td>\n    </tr>\n    <tr>\n      <th>1</th>\n      <td>Kovaipudur</td>\n      <td>10.945415</td>\n      <td>76.93926</td>\n      <td>Nilgris Kovaipudur</td>\n      <td>10.946301</td>\n      <td>76.933981</td>\n      <td>Department Store</td>\n    </tr>\n    <tr>\n      <th>2</th>\n      <td>Kovaipudur</td>\n      <td>10.945415</td>\n      <td>76.93926</td>\n      <td>Sundarapuram Bus Stop</td>\n      <td>10.957637</td>\n      <td>76.972168</td>\n      <td>Bus Stop</td>\n    </tr>\n    <tr>\n      <th>3</th>\n      <td>Kovaipudur</td>\n      <td>10.945415</td>\n      <td>76.93926</td>\n      <td>Shree Anandhaas</td>\n      <td>10.959043</td>\n      <td>76.971924</td>\n      <td>Indian Restaurant</td>\n    </tr>\n    <tr>\n      <th>4</th>\n      <td>Kovaipudur</td>\n      <td>10.945415</td>\n      <td>76.93926</td>\n      <td>Allwin Hotel</td>\n      <td>10.954500</td>\n      <td>76.973755</td>\n      <td>Hotel</td>\n    </tr>\n  </tbody>\n</table>\n</div>",
                        "text/plain": "  Neighborhood  Neighborhood Latitude  Neighborhood Longitude  \\\n0   Kovaipudur              10.945415                76.93926   \n1   Kovaipudur              10.945415                76.93926   \n2   Kovaipudur              10.945415                76.93926   \n3   Kovaipudur              10.945415                76.93926   \n4   Kovaipudur              10.945415                76.93926   \n\n                   Venue  Venue Latitude  Venue Longitude     Venue Category  \n0  Sita Paani Restaurant       10.954885        76.953049  Indian Restaurant  \n1     Nilgris Kovaipudur       10.946301        76.933981   Department Store  \n2  Sundarapuram Bus Stop       10.957637        76.972168           Bus Stop  \n3        Shree Anandhaas       10.959043        76.971924  Indian Restaurant  \n4           Allwin Hotel       10.954500        76.973755              Hotel  "
                    },
                    "execution_count": 11,
                    "metadata": {},
                    "output_type": "execute_result"
                }
            ],
            "source": "cbe_venues.head()"
        },
        {
            "cell_type": "code",
            "execution_count": 12,
            "metadata": {},
            "outputs": [
                {
                    "data": {
                        "text/plain": "(790, 7)"
                    },
                    "execution_count": 12,
                    "metadata": {},
                    "output_type": "execute_result"
                }
            ],
            "source": "cbe_venues.shape"
        },
        {
            "cell_type": "markdown",
            "metadata": {},
            "source": "## Group by Neighborhood\nI grouped the venues by neighborhood to see how many venues are there per location."
        },
        {
            "cell_type": "code",
            "execution_count": 13,
            "metadata": {},
            "outputs": [
                {
                    "data": {
                        "text/html": "<div>\n<style scoped>\n    .dataframe tbody tr th:only-of-type {\n        vertical-align: middle;\n    }\n\n    .dataframe tbody tr th {\n        vertical-align: top;\n    }\n\n    .dataframe thead th {\n        text-align: right;\n    }\n</style>\n<table border=\"1\" class=\"dataframe\">\n  <thead>\n    <tr style=\"text-align: right;\">\n      <th></th>\n      <th>Neighborhood Latitude</th>\n      <th>Neighborhood Longitude</th>\n      <th>Venue</th>\n      <th>Venue Latitude</th>\n      <th>Venue Longitude</th>\n      <th>Venue Category</th>\n    </tr>\n    <tr>\n      <th>Neighborhood</th>\n      <th></th>\n      <th></th>\n      <th></th>\n      <th></th>\n      <th></th>\n      <th></th>\n    </tr>\n  </thead>\n  <tbody>\n    <tr>\n      <th>Ganapathy</th>\n      <td>100</td>\n      <td>100</td>\n      <td>100</td>\n      <td>100</td>\n      <td>100</td>\n      <td>100</td>\n    </tr>\n    <tr>\n      <th>Gandhipuram</th>\n      <td>52</td>\n      <td>52</td>\n      <td>52</td>\n      <td>52</td>\n      <td>52</td>\n      <td>52</td>\n    </tr>\n    <tr>\n      <th>Kovaipudur</th>\n      <td>8</td>\n      <td>8</td>\n      <td>8</td>\n      <td>8</td>\n      <td>8</td>\n      <td>8</td>\n    </tr>\n    <tr>\n      <th>Kuniyamuthur</th>\n      <td>52</td>\n      <td>52</td>\n      <td>52</td>\n      <td>52</td>\n      <td>52</td>\n      <td>52</td>\n    </tr>\n    <tr>\n      <th>Peelamedu</th>\n      <td>100</td>\n      <td>100</td>\n      <td>100</td>\n      <td>100</td>\n      <td>100</td>\n      <td>100</td>\n    </tr>\n    <tr>\n      <th>Podanur</th>\n      <td>27</td>\n      <td>27</td>\n      <td>27</td>\n      <td>27</td>\n      <td>27</td>\n      <td>27</td>\n    </tr>\n    <tr>\n      <th>RS Puram</th>\n      <td>100</td>\n      <td>100</td>\n      <td>100</td>\n      <td>100</td>\n      <td>100</td>\n      <td>100</td>\n    </tr>\n    <tr>\n      <th>Race Course</th>\n      <td>100</td>\n      <td>100</td>\n      <td>100</td>\n      <td>100</td>\n      <td>100</td>\n      <td>100</td>\n    </tr>\n    <tr>\n      <th>Saibaba Colony</th>\n      <td>100</td>\n      <td>100</td>\n      <td>100</td>\n      <td>100</td>\n      <td>100</td>\n      <td>100</td>\n    </tr>\n    <tr>\n      <th>Singanallur</th>\n      <td>51</td>\n      <td>51</td>\n      <td>51</td>\n      <td>51</td>\n      <td>51</td>\n      <td>51</td>\n    </tr>\n    <tr>\n      <th>Ukkadam</th>\n      <td>100</td>\n      <td>100</td>\n      <td>100</td>\n      <td>100</td>\n      <td>100</td>\n      <td>100</td>\n    </tr>\n  </tbody>\n</table>\n</div>",
                        "text/plain": "                Neighborhood Latitude  Neighborhood Longitude  Venue  \\\nNeighborhood                                                           \nGanapathy                         100                     100    100   \nGandhipuram                        52                      52     52   \nKovaipudur                          8                       8      8   \nKuniyamuthur                       52                      52     52   \nPeelamedu                         100                     100    100   \nPodanur                            27                      27     27   \nRS Puram                          100                     100    100   \nRace Course                       100                     100    100   \nSaibaba Colony                    100                     100    100   \nSinganallur                        51                      51     51   \nUkkadam                           100                     100    100   \n\n                Venue Latitude  Venue Longitude  Venue Category  \nNeighborhood                                                     \nGanapathy                  100              100             100  \nGandhipuram                 52               52              52  \nKovaipudur                   8                8               8  \nKuniyamuthur                52               52              52  \nPeelamedu                  100              100             100  \nPodanur                     27               27              27  \nRS Puram                   100              100             100  \nRace Course                100              100             100  \nSaibaba Colony             100              100             100  \nSinganallur                 51               51              51  \nUkkadam                    100              100             100  "
                    },
                    "execution_count": 13,
                    "metadata": {},
                    "output_type": "execute_result"
                }
            ],
            "source": "cbe_venues.groupby('Neighborhood').count()"
        },
        {
            "cell_type": "code",
            "execution_count": 14,
            "metadata": {},
            "outputs": [
                {
                    "name": "stdout",
                    "output_type": "stream",
                    "text": "There are 49 uniques categories.\n"
                }
            ],
            "source": "print('There are {} uniques categories.'.format(len(cbe_venues['Venue Category'].unique())))"
        },
        {
            "cell_type": "markdown",
            "metadata": {},
            "source": "## Onehot Encoding\nBy doing one hot encoding (using the get_dummies function), it easier to work with data"
        },
        {
            "cell_type": "code",
            "execution_count": 15,
            "metadata": {},
            "outputs": [],
            "source": "cbe_onehot = pd.get_dummies(cbe_venues[['Venue Category']], prefix=\"\", prefix_sep=\"\")\n\ncbe_onehot['Neighborhood'] = cbe_venues['Neighborhood'] \n\nfixed_columns = [cbe_onehot.columns[-1]] + list(cbe_onehot.columns[:-1])\ncbe_onehot = cbe_onehot[fixed_columns]\n\ncbe_grouped = cbe_onehot.groupby('Neighborhood').mean().reset_index()"
        },
        {
            "cell_type": "markdown",
            "metadata": {},
            "source": "## Function to return the most common values\nThis function sorts the venues by most often occuring category"
        },
        {
            "cell_type": "code",
            "execution_count": 16,
            "metadata": {},
            "outputs": [],
            "source": "def return_most_common_venues(row, num_top_venues):\n    row_categories = row.iloc[1:]\n    row_categories_sorted = row_categories.sort_values(ascending=False)\n    \n    return row_categories_sorted.index.values[0:num_top_venues]"
        },
        {
            "cell_type": "markdown",
            "metadata": {},
            "source": "## Create a dataframe of most common venue categories"
        },
        {
            "cell_type": "code",
            "execution_count": 17,
            "metadata": {},
            "outputs": [],
            "source": "num_top_venues = 10\n\nindicators = ['st', 'nd', 'rd']\n\ncolumns = ['Neighborhood']\nfor ind in np.arange(num_top_venues):\n    try:\n        columns.append('{}{} Most Common Venue'.format(ind+1, indicators[ind]))\n    except:\n        columns.append('{}th Most Common Venue'.format(ind+1))\n\ncbe_neighborhoods_venues_sorted = pd.DataFrame(columns=columns)\ncbe_neighborhoods_venues_sorted['Neighborhood'] = cbe_grouped['Neighborhood']\n\nfor ind in np.arange(cbe_grouped.shape[0]):\n    cbe_neighborhoods_venues_sorted.iloc[ind, 1:] = return_most_common_venues(cbe_grouped.iloc[ind, :], num_top_venues)\n\n"
        },
        {
            "cell_type": "code",
            "execution_count": 18,
            "metadata": {
                "scrolled": false
            },
            "outputs": [
                {
                    "data": {
                        "text/html": "<div>\n<style scoped>\n    .dataframe tbody tr th:only-of-type {\n        vertical-align: middle;\n    }\n\n    .dataframe tbody tr th {\n        vertical-align: top;\n    }\n\n    .dataframe thead th {\n        text-align: right;\n    }\n</style>\n<table border=\"1\" class=\"dataframe\">\n  <thead>\n    <tr style=\"text-align: right;\">\n      <th></th>\n      <th>Neighborhood</th>\n      <th>1st Most Common Venue</th>\n      <th>2nd Most Common Venue</th>\n      <th>3rd Most Common Venue</th>\n      <th>4th Most Common Venue</th>\n      <th>5th Most Common Venue</th>\n      <th>6th Most Common Venue</th>\n      <th>7th Most Common Venue</th>\n      <th>8th Most Common Venue</th>\n      <th>9th Most Common Venue</th>\n      <th>10th Most Common Venue</th>\n    </tr>\n  </thead>\n  <tbody>\n    <tr>\n      <th>0</th>\n      <td>Ganapathy</td>\n      <td>Indian Restaurant</td>\n      <td>Ice Cream Shop</td>\n      <td>Clothing Store</td>\n      <td>Multiplex</td>\n      <td>Asian Restaurant</td>\n      <td>Caf\u00e9</td>\n      <td>Shopping Mall</td>\n      <td>Fast Food Restaurant</td>\n      <td>Hotel</td>\n      <td>Chinese Restaurant</td>\n    </tr>\n    <tr>\n      <th>1</th>\n      <td>Gandhipuram</td>\n      <td>Indian Restaurant</td>\n      <td>Ice Cream Shop</td>\n      <td>Multiplex</td>\n      <td>Vegetarian / Vegan Restaurant</td>\n      <td>Shopping Mall</td>\n      <td>Italian Restaurant</td>\n      <td>Hotel</td>\n      <td>Clothing Store</td>\n      <td>Fast Food Restaurant</td>\n      <td>Asian Restaurant</td>\n    </tr>\n    <tr>\n      <th>2</th>\n      <td>Kovaipudur</td>\n      <td>Indian Restaurant</td>\n      <td>Hotel</td>\n      <td>Train Station</td>\n      <td>Vegetarian / Vegan Restaurant</td>\n      <td>Department Store</td>\n      <td>Bus Station</td>\n      <td>Bus Stop</td>\n      <td>Clothing Store</td>\n      <td>Food Court</td>\n      <td>Fast Food Restaurant</td>\n    </tr>\n    <tr>\n      <th>3</th>\n      <td>Kuniyamuthur</td>\n      <td>Indian Restaurant</td>\n      <td>Asian Restaurant</td>\n      <td>Clothing Store</td>\n      <td>Multiplex</td>\n      <td>Ice Cream Shop</td>\n      <td>Caf\u00e9</td>\n      <td>Hotel</td>\n      <td>Department Store</td>\n      <td>Park</td>\n      <td>Pizza Place</td>\n    </tr>\n    <tr>\n      <th>4</th>\n      <td>Peelamedu</td>\n      <td>Indian Restaurant</td>\n      <td>Ice Cream Shop</td>\n      <td>Clothing Store</td>\n      <td>Asian Restaurant</td>\n      <td>Hotel</td>\n      <td>Multiplex</td>\n      <td>Vegetarian / Vegan Restaurant</td>\n      <td>Shopping Mall</td>\n      <td>Restaurant</td>\n      <td>Caf\u00e9</td>\n    </tr>\n    <tr>\n      <th>5</th>\n      <td>Podanur</td>\n      <td>Indian Restaurant</td>\n      <td>Bakery</td>\n      <td>Asian Restaurant</td>\n      <td>Italian Restaurant</td>\n      <td>Ice Cream Shop</td>\n      <td>Multiplex</td>\n      <td>BBQ Joint</td>\n      <td>Bus Station</td>\n      <td>Clothing Store</td>\n      <td>Coffee Shop</td>\n    </tr>\n    <tr>\n      <th>6</th>\n      <td>RS Puram</td>\n      <td>Indian Restaurant</td>\n      <td>Clothing Store</td>\n      <td>Asian Restaurant</td>\n      <td>Multiplex</td>\n      <td>Ice Cream Shop</td>\n      <td>Caf\u00e9</td>\n      <td>Pizza Place</td>\n      <td>Fast Food Restaurant</td>\n      <td>Hotel</td>\n      <td>Shopping Mall</td>\n    </tr>\n    <tr>\n      <th>7</th>\n      <td>Race Course</td>\n      <td>Indian Restaurant</td>\n      <td>Ice Cream Shop</td>\n      <td>Asian Restaurant</td>\n      <td>Clothing Store</td>\n      <td>Hotel</td>\n      <td>Fast Food Restaurant</td>\n      <td>Vegetarian / Vegan Restaurant</td>\n      <td>Multiplex</td>\n      <td>Caf\u00e9</td>\n      <td>Coffee Shop</td>\n    </tr>\n    <tr>\n      <th>8</th>\n      <td>Saibaba Colony</td>\n      <td>Indian Restaurant</td>\n      <td>Asian Restaurant</td>\n      <td>Clothing Store</td>\n      <td>Ice Cream Shop</td>\n      <td>Caf\u00e9</td>\n      <td>Multiplex</td>\n      <td>Pizza Place</td>\n      <td>Fast Food Restaurant</td>\n      <td>Hotel</td>\n      <td>Shopping Mall</td>\n    </tr>\n    <tr>\n      <th>9</th>\n      <td>Singanallur</td>\n      <td>Indian Restaurant</td>\n      <td>Ice Cream Shop</td>\n      <td>Coffee Shop</td>\n      <td>Fast Food Restaurant</td>\n      <td>Hotel</td>\n      <td>Nightclub</td>\n      <td>Restaurant</td>\n      <td>Pizza Place</td>\n      <td>Chinese Restaurant</td>\n      <td>Caf\u00e9</td>\n    </tr>\n    <tr>\n      <th>10</th>\n      <td>Ukkadam</td>\n      <td>Indian Restaurant</td>\n      <td>Clothing Store</td>\n      <td>Asian Restaurant</td>\n      <td>Multiplex</td>\n      <td>Ice Cream Shop</td>\n      <td>Caf\u00e9</td>\n      <td>Pizza Place</td>\n      <td>Fast Food Restaurant</td>\n      <td>Hotel</td>\n      <td>Vegetarian / Vegan Restaurant</td>\n    </tr>\n  </tbody>\n</table>\n</div>",
                        "text/plain": "      Neighborhood 1st Most Common Venue 2nd Most Common Venue  \\\n0        Ganapathy     Indian Restaurant        Ice Cream Shop   \n1      Gandhipuram     Indian Restaurant        Ice Cream Shop   \n2       Kovaipudur     Indian Restaurant                 Hotel   \n3     Kuniyamuthur     Indian Restaurant      Asian Restaurant   \n4        Peelamedu     Indian Restaurant        Ice Cream Shop   \n5          Podanur     Indian Restaurant                Bakery   \n6         RS Puram     Indian Restaurant        Clothing Store   \n7      Race Course     Indian Restaurant        Ice Cream Shop   \n8   Saibaba Colony     Indian Restaurant      Asian Restaurant   \n9      Singanallur     Indian Restaurant        Ice Cream Shop   \n10         Ukkadam     Indian Restaurant        Clothing Store   \n\n   3rd Most Common Venue          4th Most Common Venue 5th Most Common Venue  \\\n0         Clothing Store                      Multiplex      Asian Restaurant   \n1              Multiplex  Vegetarian / Vegan Restaurant         Shopping Mall   \n2          Train Station  Vegetarian / Vegan Restaurant      Department Store   \n3         Clothing Store                      Multiplex        Ice Cream Shop   \n4         Clothing Store               Asian Restaurant                 Hotel   \n5       Asian Restaurant             Italian Restaurant        Ice Cream Shop   \n6       Asian Restaurant                      Multiplex        Ice Cream Shop   \n7       Asian Restaurant                 Clothing Store                 Hotel   \n8         Clothing Store                 Ice Cream Shop                  Caf\u00e9   \n9            Coffee Shop           Fast Food Restaurant                 Hotel   \n10      Asian Restaurant                      Multiplex        Ice Cream Shop   \n\n   6th Most Common Venue          7th Most Common Venue 8th Most Common Venue  \\\n0                   Caf\u00e9                  Shopping Mall  Fast Food Restaurant   \n1     Italian Restaurant                          Hotel        Clothing Store   \n2            Bus Station                       Bus Stop        Clothing Store   \n3                   Caf\u00e9                          Hotel      Department Store   \n4              Multiplex  Vegetarian / Vegan Restaurant         Shopping Mall   \n5              Multiplex                      BBQ Joint           Bus Station   \n6                   Caf\u00e9                    Pizza Place  Fast Food Restaurant   \n7   Fast Food Restaurant  Vegetarian / Vegan Restaurant             Multiplex   \n8              Multiplex                    Pizza Place  Fast Food Restaurant   \n9              Nightclub                     Restaurant           Pizza Place   \n10                  Caf\u00e9                    Pizza Place  Fast Food Restaurant   \n\n   9th Most Common Venue         10th Most Common Venue  \n0                  Hotel             Chinese Restaurant  \n1   Fast Food Restaurant               Asian Restaurant  \n2             Food Court           Fast Food Restaurant  \n3                   Park                    Pizza Place  \n4             Restaurant                           Caf\u00e9  \n5         Clothing Store                    Coffee Shop  \n6                  Hotel                  Shopping Mall  \n7                   Caf\u00e9                    Coffee Shop  \n8                  Hotel                  Shopping Mall  \n9     Chinese Restaurant                           Caf\u00e9  \n10                 Hotel  Vegetarian / Vegan Restaurant  "
                    },
                    "execution_count": 18,
                    "metadata": {},
                    "output_type": "execute_result"
                }
            ],
            "source": "cbe_neighborhoods_venues_sorted"
        },
        {
            "cell_type": "markdown",
            "metadata": {},
            "source": "## Convert each category to a number\nI found the unique venues and numbered them according to their index(+1) in the dataframe."
        },
        {
            "cell_type": "code",
            "execution_count": 19,
            "metadata": {},
            "outputs": [],
            "source": "unique_venues =  cbe_venues['Venue Category'].unique()\ncbe_neighborhoods_venues_numbered = cbe_neighborhoods_venues_sorted.replace(to_replace = unique_venues, value=list(range(1,len(unique_venues)+1)))\n"
        },
        {
            "cell_type": "code",
            "execution_count": 20,
            "metadata": {
                "scrolled": false
            },
            "outputs": [
                {
                    "data": {
                        "text/html": "<div>\n<style scoped>\n    .dataframe tbody tr th:only-of-type {\n        vertical-align: middle;\n    }\n\n    .dataframe tbody tr th {\n        vertical-align: top;\n    }\n\n    .dataframe thead th {\n        text-align: right;\n    }\n</style>\n<table border=\"1\" class=\"dataframe\">\n  <thead>\n    <tr style=\"text-align: right;\">\n      <th></th>\n      <th>Neighborhood</th>\n      <th>1st Most Common Venue</th>\n      <th>2nd Most Common Venue</th>\n      <th>3rd Most Common Venue</th>\n      <th>4th Most Common Venue</th>\n      <th>5th Most Common Venue</th>\n      <th>6th Most Common Venue</th>\n      <th>7th Most Common Venue</th>\n      <th>8th Most Common Venue</th>\n      <th>9th Most Common Venue</th>\n      <th>10th Most Common Venue</th>\n    </tr>\n  </thead>\n  <tbody>\n    <tr>\n      <th>0</th>\n      <td>Ganapathy</td>\n      <td>1</td>\n      <td>15</td>\n      <td>16</td>\n      <td>23</td>\n      <td>12</td>\n      <td>24</td>\n      <td>9</td>\n      <td>19</td>\n      <td>4</td>\n      <td>37</td>\n    </tr>\n    <tr>\n      <th>1</th>\n      <td>Gandhipuram</td>\n      <td>1</td>\n      <td>15</td>\n      <td>23</td>\n      <td>6</td>\n      <td>9</td>\n      <td>34</td>\n      <td>4</td>\n      <td>16</td>\n      <td>19</td>\n      <td>12</td>\n    </tr>\n    <tr>\n      <th>2</th>\n      <td>Kovaipudur</td>\n      <td>1</td>\n      <td>4</td>\n      <td>7</td>\n      <td>6</td>\n      <td>2</td>\n      <td>5</td>\n      <td>3</td>\n      <td>16</td>\n      <td>35</td>\n      <td>19</td>\n    </tr>\n    <tr>\n      <th>3</th>\n      <td>Kuniyamuthur</td>\n      <td>1</td>\n      <td>12</td>\n      <td>16</td>\n      <td>23</td>\n      <td>15</td>\n      <td>24</td>\n      <td>4</td>\n      <td>2</td>\n      <td>10</td>\n      <td>20</td>\n    </tr>\n    <tr>\n      <th>4</th>\n      <td>Peelamedu</td>\n      <td>1</td>\n      <td>15</td>\n      <td>16</td>\n      <td>12</td>\n      <td>4</td>\n      <td>23</td>\n      <td>6</td>\n      <td>9</td>\n      <td>22</td>\n      <td>24</td>\n    </tr>\n    <tr>\n      <th>5</th>\n      <td>Podanur</td>\n      <td>1</td>\n      <td>29</td>\n      <td>12</td>\n      <td>34</td>\n      <td>15</td>\n      <td>23</td>\n      <td>8</td>\n      <td>5</td>\n      <td>16</td>\n      <td>31</td>\n    </tr>\n    <tr>\n      <th>6</th>\n      <td>RS Puram</td>\n      <td>1</td>\n      <td>16</td>\n      <td>12</td>\n      <td>23</td>\n      <td>15</td>\n      <td>24</td>\n      <td>20</td>\n      <td>19</td>\n      <td>4</td>\n      <td>9</td>\n    </tr>\n    <tr>\n      <th>7</th>\n      <td>Race Course</td>\n      <td>1</td>\n      <td>15</td>\n      <td>12</td>\n      <td>16</td>\n      <td>4</td>\n      <td>19</td>\n      <td>6</td>\n      <td>23</td>\n      <td>24</td>\n      <td>31</td>\n    </tr>\n    <tr>\n      <th>8</th>\n      <td>Saibaba Colony</td>\n      <td>1</td>\n      <td>12</td>\n      <td>16</td>\n      <td>15</td>\n      <td>24</td>\n      <td>23</td>\n      <td>20</td>\n      <td>19</td>\n      <td>4</td>\n      <td>9</td>\n    </tr>\n    <tr>\n      <th>9</th>\n      <td>Singanallur</td>\n      <td>1</td>\n      <td>15</td>\n      <td>31</td>\n      <td>19</td>\n      <td>4</td>\n      <td>38</td>\n      <td>22</td>\n      <td>20</td>\n      <td>37</td>\n      <td>24</td>\n    </tr>\n    <tr>\n      <th>10</th>\n      <td>Ukkadam</td>\n      <td>1</td>\n      <td>16</td>\n      <td>12</td>\n      <td>23</td>\n      <td>15</td>\n      <td>24</td>\n      <td>20</td>\n      <td>19</td>\n      <td>4</td>\n      <td>6</td>\n    </tr>\n  </tbody>\n</table>\n</div>",
                        "text/plain": "      Neighborhood 1st Most Common Venue 2nd Most Common Venue  \\\n0        Ganapathy                     1                    15   \n1      Gandhipuram                     1                    15   \n2       Kovaipudur                     1                     4   \n3     Kuniyamuthur                     1                    12   \n4        Peelamedu                     1                    15   \n5          Podanur                     1                    29   \n6         RS Puram                     1                    16   \n7      Race Course                     1                    15   \n8   Saibaba Colony                     1                    12   \n9      Singanallur                     1                    15   \n10         Ukkadam                     1                    16   \n\n   3rd Most Common Venue 4th Most Common Venue 5th Most Common Venue  \\\n0                     16                    23                    12   \n1                     23                     6                     9   \n2                      7                     6                     2   \n3                     16                    23                    15   \n4                     16                    12                     4   \n5                     12                    34                    15   \n6                     12                    23                    15   \n7                     12                    16                     4   \n8                     16                    15                    24   \n9                     31                    19                     4   \n10                    12                    23                    15   \n\n   6th Most Common Venue 7th Most Common Venue 8th Most Common Venue  \\\n0                     24                     9                    19   \n1                     34                     4                    16   \n2                      5                     3                    16   \n3                     24                     4                     2   \n4                     23                     6                     9   \n5                     23                     8                     5   \n6                     24                    20                    19   \n7                     19                     6                    23   \n8                     23                    20                    19   \n9                     38                    22                    20   \n10                    24                    20                    19   \n\n   9th Most Common Venue 10th Most Common Venue  \n0                      4                     37  \n1                     19                     12  \n2                     35                     19  \n3                     10                     20  \n4                     22                     24  \n5                     16                     31  \n6                      4                      9  \n7                     24                     31  \n8                      4                      9  \n9                     37                     24  \n10                     4                      6  "
                    },
                    "execution_count": 20,
                    "metadata": {},
                    "output_type": "execute_result"
                }
            ],
            "source": "cbe_neighborhoods_venues_numbered"
        },
        {
            "cell_type": "markdown",
            "metadata": {},
            "source": "## Set up X and y for Model\nX is the most common values"
        },
        {
            "cell_type": "code",
            "execution_count": 21,
            "metadata": {},
            "outputs": [],
            "source": "X = cbe_neighborhoods_venues_numbered.iloc[:,1:].values"
        },
        {
            "cell_type": "code",
            "execution_count": 22,
            "metadata": {
                "scrolled": true
            },
            "outputs": [
                {
                    "data": {
                        "text/plain": "array([[1, 15, 16, 23, 12, 24, 9, 19, 4, 37],\n       [1, 15, 23, 6, 9, 34, 4, 16, 19, 12],\n       [1, 4, 7, 6, 2, 5, 3, 16, 35, 19],\n       [1, 12, 16, 23, 15, 24, 4, 2, 10, 20],\n       [1, 15, 16, 12, 4, 23, 6, 9, 22, 24],\n       [1, 29, 12, 34, 15, 23, 8, 5, 16, 31],\n       [1, 16, 12, 23, 15, 24, 20, 19, 4, 9],\n       [1, 15, 12, 16, 4, 19, 6, 23, 24, 31],\n       [1, 12, 16, 15, 24, 23, 20, 19, 4, 9],\n       [1, 15, 31, 19, 4, 38, 22, 20, 37, 24],\n       [1, 16, 12, 23, 15, 24, 20, 19, 4, 6]], dtype=object)"
                    },
                    "execution_count": 22,
                    "metadata": {},
                    "output_type": "execute_result"
                }
            ],
            "source": "X"
        },
        {
            "cell_type": "markdown",
            "metadata": {},
            "source": "y is the neighborhoods(target)."
        },
        {
            "cell_type": "code",
            "execution_count": 23,
            "metadata": {},
            "outputs": [],
            "source": "y = cbe_neighborhoods_venues_numbered['Neighborhood']"
        },
        {
            "cell_type": "code",
            "execution_count": 24,
            "metadata": {
                "scrolled": true
            },
            "outputs": [
                {
                    "data": {
                        "text/plain": "0          Ganapathy\n1        Gandhipuram\n2         Kovaipudur\n3       Kuniyamuthur\n4          Peelamedu\n5            Podanur\n6           RS Puram\n7        Race Course\n8     Saibaba Colony\n9        Singanallur\n10           Ukkadam\nName: Neighborhood, dtype: object"
                    },
                    "execution_count": 24,
                    "metadata": {},
                    "output_type": "execute_result"
                }
            ],
            "source": "y"
        },
        {
            "cell_type": "markdown",
            "metadata": {},
            "source": "## Model\nI have used two classification models namely the decision tree and support vector machine. Bothe are from the scikit learn package in python."
        },
        {
            "cell_type": "code",
            "execution_count": 25,
            "metadata": {},
            "outputs": [],
            "source": "from sklearn.tree import DecisionTreeClassifier\nfrom sklearn import svm"
        },
        {
            "cell_type": "markdown",
            "metadata": {},
            "source": "Both the models have been trained with the X and y."
        },
        {
            "cell_type": "code",
            "execution_count": 26,
            "metadata": {},
            "outputs": [
                {
                    "data": {
                        "text/plain": "DecisionTreeClassifier(class_weight=None, criterion='entropy', max_depth=4,\n            max_features=None, max_leaf_nodes=None,\n            min_impurity_decrease=0.0, min_impurity_split=None,\n            min_samples_leaf=1, min_samples_split=2,\n            min_weight_fraction_leaf=0.0, presort=False, random_state=None,\n            splitter='best')"
                    },
                    "execution_count": 26,
                    "metadata": {},
                    "output_type": "execute_result"
                }
            ],
            "source": "tree_classifier = DecisionTreeClassifier(criterion=\"entropy\", max_depth = 4)\ntree_classifier.fit(X,y)"
        },
        {
            "cell_type": "code",
            "execution_count": 27,
            "metadata": {
                "scrolled": true
            },
            "outputs": [
                {
                    "data": {
                        "text/plain": "SVC(C=1.0, cache_size=200, class_weight=None, coef0=0.0,\n  decision_function_shape='ovr', degree=3, gamma='auto', kernel='rbf',\n  max_iter=-1, probability=False, random_state=None, shrinking=True,\n  tol=0.001, verbose=False)"
                    },
                    "execution_count": 27,
                    "metadata": {},
                    "output_type": "execute_result"
                }
            ],
            "source": "svm_classifier = svm.SVC(kernel='rbf', gamma='auto')\nsvm_classifier.fit(X, y) "
        },
        {
            "cell_type": "markdown",
            "metadata": {},
            "source": "## User's Location\nI have taken a sample location. This is the location of my cousin's house, who is looking to move to Coimbatore."
        },
        {
            "cell_type": "code",
            "execution_count": 28,
            "metadata": {},
            "outputs": [],
            "source": "user_address = 'Jafferkhanpet, Chennai'\nuser_location = geolocator.geocode(user_address)\nuser_latitude = user_location.latitude\nuser_longitude = user_location.longitude"
        },
        {
            "cell_type": "code",
            "execution_count": 29,
            "metadata": {},
            "outputs": [
                {
                    "data": {
                        "text/plain": "13.0299401"
                    },
                    "execution_count": 29,
                    "metadata": {},
                    "output_type": "execute_result"
                }
            ],
            "source": "user_latitude"
        },
        {
            "cell_type": "code",
            "execution_count": 30,
            "metadata": {},
            "outputs": [
                {
                    "data": {
                        "text/plain": "80.2056195"
                    },
                    "execution_count": 30,
                    "metadata": {},
                    "output_type": "execute_result"
                }
            ],
            "source": "user_longitude"
        },
        {
            "cell_type": "markdown",
            "metadata": {},
            "source": "## User's Nearby Venues\nThe same function is used to get the nearby venues for the location of the user."
        },
        {
            "cell_type": "code",
            "execution_count": 31,
            "metadata": {},
            "outputs": [],
            "source": "user_venues = getNearbyVenues(names = [user_address], latitudes = [user_latitude], longitudes = [user_longitude])"
        },
        {
            "cell_type": "code",
            "execution_count": 32,
            "metadata": {
                "scrolled": true
            },
            "outputs": [
                {
                    "data": {
                        "text/html": "<div>\n<style scoped>\n    .dataframe tbody tr th:only-of-type {\n        vertical-align: middle;\n    }\n\n    .dataframe tbody tr th {\n        vertical-align: top;\n    }\n\n    .dataframe thead th {\n        text-align: right;\n    }\n</style>\n<table border=\"1\" class=\"dataframe\">\n  <thead>\n    <tr style=\"text-align: right;\">\n      <th></th>\n      <th>Neighborhood</th>\n      <th>Neighborhood Latitude</th>\n      <th>Neighborhood Longitude</th>\n      <th>Venue</th>\n      <th>Venue Latitude</th>\n      <th>Venue Longitude</th>\n      <th>Venue Category</th>\n    </tr>\n  </thead>\n  <tbody>\n    <tr>\n      <th>0</th>\n      <td>Jafferkhanpet, Chennai</td>\n      <td>13.02994</td>\n      <td>80.205619</td>\n      <td>Palazzo</td>\n      <td>13.050383</td>\n      <td>80.209541</td>\n      <td>Multiplex</td>\n    </tr>\n    <tr>\n      <th>1</th>\n      <td>Jafferkhanpet, Chennai</td>\n      <td>13.02994</td>\n      <td>80.205619</td>\n      <td>Bombay Chat</td>\n      <td>13.040300</td>\n      <td>80.193134</td>\n      <td>Fast Food Restaurant</td>\n    </tr>\n    <tr>\n      <th>2</th>\n      <td>Jafferkhanpet, Chennai</td>\n      <td>13.02994</td>\n      <td>80.205619</td>\n      <td>Q Bar</td>\n      <td>13.016606</td>\n      <td>80.204853</td>\n      <td>Restaurant</td>\n    </tr>\n    <tr>\n      <th>3</th>\n      <td>Jafferkhanpet, Chennai</td>\n      <td>13.02994</td>\n      <td>80.205619</td>\n      <td>ITC Grand Chola</td>\n      <td>13.010440</td>\n      <td>80.220669</td>\n      <td>Hotel</td>\n    </tr>\n    <tr>\n      <th>4</th>\n      <td>Jafferkhanpet, Chennai</td>\n      <td>13.02994</td>\n      <td>80.205619</td>\n      <td>Hilton</td>\n      <td>13.016621</td>\n      <td>80.204787</td>\n      <td>Hotel</td>\n    </tr>\n  </tbody>\n</table>\n</div>",
                        "text/plain": "             Neighborhood  Neighborhood Latitude  Neighborhood Longitude  \\\n0  Jafferkhanpet, Chennai               13.02994               80.205619   \n1  Jafferkhanpet, Chennai               13.02994               80.205619   \n2  Jafferkhanpet, Chennai               13.02994               80.205619   \n3  Jafferkhanpet, Chennai               13.02994               80.205619   \n4  Jafferkhanpet, Chennai               13.02994               80.205619   \n\n             Venue  Venue Latitude  Venue Longitude        Venue Category  \n0          Palazzo       13.050383        80.209541             Multiplex  \n1      Bombay Chat       13.040300        80.193134  Fast Food Restaurant  \n2            Q Bar       13.016606        80.204853            Restaurant  \n3  ITC Grand Chola       13.010440        80.220669                 Hotel  \n4           Hilton       13.016621        80.204787                 Hotel  "
                    },
                    "execution_count": 32,
                    "metadata": {},
                    "output_type": "execute_result"
                }
            ],
            "source": "user_venues.head()"
        },
        {
            "cell_type": "markdown",
            "metadata": {},
            "source": "## Data Processing\nSimilarly, the user's details are also made to match the format we require. So first it's onehot encoded, then the most common venue catgories are found and numbered"
        },
        {
            "cell_type": "code",
            "execution_count": 33,
            "metadata": {},
            "outputs": [],
            "source": "user_onehot = pd.get_dummies(user_venues[['Venue Category']], prefix=\"\", prefix_sep=\"\")\n\nuser_onehot['Neighborhood'] = user_venues['Neighborhood'] \n\nfixed_columns = [user_onehot.columns[-1]] + list(user_onehot.columns[:-1])\nuser_onehot = user_onehot[fixed_columns]\n\nuser_grouped = user_onehot.groupby('Neighborhood').mean().reset_index()"
        },
        {
            "cell_type": "code",
            "execution_count": 34,
            "metadata": {},
            "outputs": [
                {
                    "data": {
                        "text/html": "<div>\n<style scoped>\n    .dataframe tbody tr th:only-of-type {\n        vertical-align: middle;\n    }\n\n    .dataframe tbody tr th {\n        vertical-align: top;\n    }\n\n    .dataframe thead th {\n        text-align: right;\n    }\n</style>\n<table border=\"1\" class=\"dataframe\">\n  <thead>\n    <tr style=\"text-align: right;\">\n      <th></th>\n      <th>Neighborhood</th>\n      <th>Andhra Restaurant</th>\n      <th>Asian Restaurant</th>\n      <th>BBQ Joint</th>\n      <th>Bakery</th>\n      <th>Bar</th>\n      <th>Breakfast Spot</th>\n      <th>Burger Joint</th>\n      <th>Caf\u00e9</th>\n      <th>Chinese Restaurant</th>\n      <th>...</th>\n      <th>Restaurant</th>\n      <th>Sandwich Place</th>\n      <th>Sculpture Garden</th>\n      <th>Shopping Mall</th>\n      <th>Snack Place</th>\n      <th>South Indian Restaurant</th>\n      <th>Spa</th>\n      <th>Tennis Stadium</th>\n      <th>Vegetarian / Vegan Restaurant</th>\n      <th>Women's Store</th>\n    </tr>\n  </thead>\n  <tbody>\n    <tr>\n      <th>0</th>\n      <td>Jafferkhanpet, Chennai</td>\n      <td>0.01</td>\n      <td>0.02</td>\n      <td>0.03</td>\n      <td>0.02</td>\n      <td>0.01</td>\n      <td>0.01</td>\n      <td>0.01</td>\n      <td>0.02</td>\n      <td>0.05</td>\n      <td>...</td>\n      <td>0.03</td>\n      <td>0.03</td>\n      <td>0.01</td>\n      <td>0.02</td>\n      <td>0.01</td>\n      <td>0.03</td>\n      <td>0.01</td>\n      <td>0.01</td>\n      <td>0.04</td>\n      <td>0.01</td>\n    </tr>\n  </tbody>\n</table>\n<p>1 rows \u00d7 42 columns</p>\n</div>",
                        "text/plain": "             Neighborhood  Andhra Restaurant  Asian Restaurant  BBQ Joint  \\\n0  Jafferkhanpet, Chennai               0.01              0.02       0.03   \n\n   Bakery   Bar  Breakfast Spot  Burger Joint  Caf\u00e9  Chinese Restaurant  ...  \\\n0    0.02  0.01            0.01          0.01  0.02                0.05  ...   \n\n   Restaurant  Sandwich Place  Sculpture Garden  Shopping Mall  Snack Place  \\\n0        0.03            0.03              0.01           0.02         0.01   \n\n   South Indian Restaurant   Spa  Tennis Stadium  \\\n0                     0.03  0.01            0.01   \n\n   Vegetarian / Vegan Restaurant  Women's Store  \n0                           0.04           0.01  \n\n[1 rows x 42 columns]"
                    },
                    "execution_count": 34,
                    "metadata": {},
                    "output_type": "execute_result"
                }
            ],
            "source": "user_grouped"
        },
        {
            "cell_type": "code",
            "execution_count": 35,
            "metadata": {},
            "outputs": [
                {
                    "data": {
                        "text/html": "<div>\n<style scoped>\n    .dataframe tbody tr th:only-of-type {\n        vertical-align: middle;\n    }\n\n    .dataframe tbody tr th {\n        vertical-align: top;\n    }\n\n    .dataframe thead th {\n        text-align: right;\n    }\n</style>\n<table border=\"1\" class=\"dataframe\">\n  <thead>\n    <tr style=\"text-align: right;\">\n      <th></th>\n      <th>Neighborhood</th>\n      <th>1st Most Common Venue</th>\n      <th>2nd Most Common Venue</th>\n      <th>3rd Most Common Venue</th>\n      <th>4th Most Common Venue</th>\n      <th>5th Most Common Venue</th>\n      <th>6th Most Common Venue</th>\n      <th>7th Most Common Venue</th>\n      <th>8th Most Common Venue</th>\n      <th>9th Most Common Venue</th>\n      <th>10th Most Common Venue</th>\n    </tr>\n  </thead>\n  <tbody>\n    <tr>\n      <th>0</th>\n      <td>Jafferkhanpet, Chennai</td>\n      <td>Indian Restaurant</td>\n      <td>Hotel</td>\n      <td>Ice Cream Shop</td>\n      <td>Clothing Store</td>\n      <td>Chinese Restaurant</td>\n      <td>Multiplex</td>\n      <td>Italian Restaurant</td>\n      <td>Vegetarian / Vegan Restaurant</td>\n      <td>Fast Food Restaurant</td>\n      <td>BBQ Joint</td>\n    </tr>\n  </tbody>\n</table>\n</div>",
                        "text/plain": "             Neighborhood 1st Most Common Venue 2nd Most Common Venue  \\\n0  Jafferkhanpet, Chennai     Indian Restaurant                 Hotel   \n\n  3rd Most Common Venue 4th Most Common Venue 5th Most Common Venue  \\\n0        Ice Cream Shop        Clothing Store    Chinese Restaurant   \n\n  6th Most Common Venue 7th Most Common Venue          8th Most Common Venue  \\\n0             Multiplex    Italian Restaurant  Vegetarian / Vegan Restaurant   \n\n  9th Most Common Venue 10th Most Common Venue  \n0  Fast Food Restaurant              BBQ Joint  "
                    },
                    "execution_count": 35,
                    "metadata": {},
                    "output_type": "execute_result"
                }
            ],
            "source": "columns = ['Neighborhood']\nfor ind in np.arange(num_top_venues):\n    try:\n        columns.append('{}{} Most Common Venue'.format(ind+1, indicators[ind]))\n    except:\n        columns.append('{}th Most Common Venue'.format(ind+1))\n\nuser_neighborhoods_venues_sorted = pd.DataFrame(columns=columns)\nuser_neighborhoods_venues_sorted['Neighborhood'] = user_grouped['Neighborhood']\n\nfor ind in np.arange(user_grouped.shape[0]):\n    user_neighborhoods_venues_sorted.iloc[ind, 1:] = return_most_common_venues(user_grouped.iloc[ind, :], num_top_venues)\n\nuser_neighborhoods_venues_sorted"
        },
        {
            "cell_type": "code",
            "execution_count": 36,
            "metadata": {},
            "outputs": [],
            "source": "user_neighborhoods_venues_numbered = user_neighborhoods_venues_sorted.replace(to_replace = unique_venues, value= list(range(1,len(unique_venues)+1)))"
        },
        {
            "cell_type": "code",
            "execution_count": 37,
            "metadata": {
                "scrolled": true
            },
            "outputs": [
                {
                    "data": {
                        "text/html": "<div>\n<style scoped>\n    .dataframe tbody tr th:only-of-type {\n        vertical-align: middle;\n    }\n\n    .dataframe tbody tr th {\n        vertical-align: top;\n    }\n\n    .dataframe thead th {\n        text-align: right;\n    }\n</style>\n<table border=\"1\" class=\"dataframe\">\n  <thead>\n    <tr style=\"text-align: right;\">\n      <th></th>\n      <th>Neighborhood</th>\n      <th>1st Most Common Venue</th>\n      <th>2nd Most Common Venue</th>\n      <th>3rd Most Common Venue</th>\n      <th>4th Most Common Venue</th>\n      <th>5th Most Common Venue</th>\n      <th>6th Most Common Venue</th>\n      <th>7th Most Common Venue</th>\n      <th>8th Most Common Venue</th>\n      <th>9th Most Common Venue</th>\n      <th>10th Most Common Venue</th>\n    </tr>\n  </thead>\n  <tbody>\n    <tr>\n      <th>0</th>\n      <td>Jafferkhanpet, Chennai</td>\n      <td>1</td>\n      <td>4</td>\n      <td>15</td>\n      <td>16</td>\n      <td>37</td>\n      <td>23</td>\n      <td>34</td>\n      <td>6</td>\n      <td>19</td>\n      <td>8</td>\n    </tr>\n  </tbody>\n</table>\n</div>",
                        "text/plain": "             Neighborhood 1st Most Common Venue 2nd Most Common Venue  \\\n0  Jafferkhanpet, Chennai                     1                     4   \n\n  3rd Most Common Venue 4th Most Common Venue 5th Most Common Venue  \\\n0                    15                    16                    37   \n\n  6th Most Common Venue 7th Most Common Venue 8th Most Common Venue  \\\n0                    23                    34                     6   \n\n  9th Most Common Venue 10th Most Common Venue  \n0                    19                      8  "
                    },
                    "execution_count": 37,
                    "metadata": {},
                    "output_type": "execute_result"
                }
            ],
            "source": "user_neighborhoods_venues_numbered"
        },
        {
            "cell_type": "markdown",
            "metadata": {},
            "source": "## Predict the Location to Move into\nAfter processing the data to how we want it, we use our models to predict which neighborhood is most similar."
        },
        {
            "cell_type": "code",
            "execution_count": 38,
            "metadata": {},
            "outputs": [],
            "source": "X_test = user_neighborhoods_venues_numbered.iloc[:,1:].values"
        },
        {
            "cell_type": "code",
            "execution_count": 39,
            "metadata": {},
            "outputs": [
                {
                    "data": {
                        "text/plain": "array([[1, 4, 15, 16, 37, 23, 34, 6, 19, 8]], dtype=object)"
                    },
                    "execution_count": 39,
                    "metadata": {},
                    "output_type": "execute_result"
                }
            ],
            "source": "X_test"
        },
        {
            "cell_type": "code",
            "execution_count": 40,
            "metadata": {},
            "outputs": [
                {
                    "data": {
                        "text/plain": "array(['Race Course'], dtype=object)"
                    },
                    "execution_count": 40,
                    "metadata": {},
                    "output_type": "execute_result"
                }
            ],
            "source": "tree_classifier.predict(X_test)"
        },
        {
            "cell_type": "code",
            "execution_count": 41,
            "metadata": {},
            "outputs": [
                {
                    "data": {
                        "text/plain": "array(['Saibaba Colony'], dtype=object)"
                    },
                    "execution_count": 41,
                    "metadata": {},
                    "output_type": "execute_result"
                }
            ],
            "source": "svm_classifier.predict(X_test)"
        },
        {
            "cell_type": "markdown",
            "metadata": {},
            "source": "## Another User Location to Test\nAnother location is used to test. The same process of getting the user data is done."
        },
        {
            "cell_type": "code",
            "execution_count": 44,
            "metadata": {},
            "outputs": [
                {
                    "data": {
                        "text/html": "<div>\n<style scoped>\n    .dataframe tbody tr th:only-of-type {\n        vertical-align: middle;\n    }\n\n    .dataframe tbody tr th {\n        vertical-align: top;\n    }\n\n    .dataframe thead th {\n        text-align: right;\n    }\n</style>\n<table border=\"1\" class=\"dataframe\">\n  <thead>\n    <tr style=\"text-align: right;\">\n      <th></th>\n      <th>Neighborhood</th>\n      <th>1st Most Common Venue</th>\n      <th>2nd Most Common Venue</th>\n      <th>3rd Most Common Venue</th>\n      <th>4th Most Common Venue</th>\n      <th>5th Most Common Venue</th>\n      <th>6th Most Common Venue</th>\n      <th>7th Most Common Venue</th>\n      <th>8th Most Common Venue</th>\n      <th>9th Most Common Venue</th>\n      <th>10th Most Common Venue</th>\n    </tr>\n  </thead>\n  <tbody>\n    <tr>\n      <th>0</th>\n      <td>Vikroli, Mumbai</td>\n      <td>Indian Restaurant</td>\n      <td>Restaurant</td>\n      <td>Caf\u00e9</td>\n      <td>Lounge</td>\n      <td>Multiplex</td>\n      <td>Fast Food Restaurant</td>\n      <td>Gym</td>\n      <td>Hotel</td>\n      <td>Pub</td>\n      <td>Italian Restaurant</td>\n    </tr>\n  </tbody>\n</table>\n</div>",
                        "text/plain": "      Neighborhood 1st Most Common Venue 2nd Most Common Venue  \\\n0  Vikroli, Mumbai     Indian Restaurant            Restaurant   \n\n  3rd Most Common Venue 4th Most Common Venue 5th Most Common Venue  \\\n0                  Caf\u00e9                Lounge             Multiplex   \n\n  6th Most Common Venue 7th Most Common Venue 8th Most Common Venue  \\\n0  Fast Food Restaurant                   Gym                 Hotel   \n\n  9th Most Common Venue 10th Most Common Venue  \n0                   Pub     Italian Restaurant  "
                    },
                    "execution_count": 44,
                    "metadata": {},
                    "output_type": "execute_result"
                }
            ],
            "source": "user_address = 'Vikroli, Mumbai'\nuser_location = geolocator.geocode(user_address)\nuser_latitude = user_location.latitude\nuser_longitude = user_location.longitude\n\nuser_venues = getNearbyVenues(names = [user_address], latitudes = [user_latitude], longitudes = [user_longitude])\n\nuser_onehot = pd.get_dummies(user_venues[['Venue Category']], prefix=\"\", prefix_sep=\"\")\n\nuser_onehot['Neighborhood'] = user_venues['Neighborhood'] \n\nfixed_columns = [user_onehot.columns[-1]] + list(user_onehot.columns[:-1])\nuser_onehot = user_onehot[fixed_columns]\n\nuser_grouped = user_onehot.groupby('Neighborhood').mean().reset_index()\n\ncolumns = ['Neighborhood']\nfor ind in np.arange(num_top_venues):\n    try:\n        columns.append('{}{} Most Common Venue'.format(ind+1, indicators[ind]))\n    except:\n        columns.append('{}th Most Common Venue'.format(ind+1))\n\nuser_neighborhoods_venues_sorted = pd.DataFrame(columns=columns)\nuser_neighborhoods_venues_sorted['Neighborhood'] = user_grouped['Neighborhood']\n\nfor ind in np.arange(user_grouped.shape[0]):\n    user_neighborhoods_venues_sorted.iloc[ind, 1:] = return_most_common_venues(user_grouped.iloc[ind, :], num_top_venues)\n\nuser_neighborhoods_venues_sorted"
        },
        {
            "cell_type": "code",
            "execution_count": 46,
            "metadata": {
                "scrolled": false
            },
            "outputs": [
                {
                    "data": {
                        "text/html": "<div>\n<style scoped>\n    .dataframe tbody tr th:only-of-type {\n        vertical-align: middle;\n    }\n\n    .dataframe tbody tr th {\n        vertical-align: top;\n    }\n\n    .dataframe thead th {\n        text-align: right;\n    }\n</style>\n<table border=\"1\" class=\"dataframe\">\n  <thead>\n    <tr style=\"text-align: right;\">\n      <th></th>\n      <th>Neighborhood</th>\n      <th>1st Most Common Venue</th>\n      <th>2nd Most Common Venue</th>\n      <th>3rd Most Common Venue</th>\n      <th>4th Most Common Venue</th>\n      <th>5th Most Common Venue</th>\n      <th>6th Most Common Venue</th>\n      <th>7th Most Common Venue</th>\n      <th>8th Most Common Venue</th>\n      <th>9th Most Common Venue</th>\n      <th>10th Most Common Venue</th>\n    </tr>\n  </thead>\n  <tbody>\n    <tr>\n      <th>0</th>\n      <td>Vikroli, Mumbai</td>\n      <td>1</td>\n      <td>22</td>\n      <td>24</td>\n      <td>Lounge</td>\n      <td>23</td>\n      <td>19</td>\n      <td>Gym</td>\n      <td>4</td>\n      <td>Pub</td>\n      <td>34</td>\n    </tr>\n  </tbody>\n</table>\n</div>",
                        "text/plain": "      Neighborhood 1st Most Common Venue 2nd Most Common Venue  \\\n0  Vikroli, Mumbai                     1                    22   \n\n  3rd Most Common Venue 4th Most Common Venue 5th Most Common Venue  \\\n0                    24                Lounge                    23   \n\n  6th Most Common Venue 7th Most Common Venue 8th Most Common Venue  \\\n0                    19                   Gym                     4   \n\n  9th Most Common Venue 10th Most Common Venue  \n0                   Pub                     34  "
                    },
                    "execution_count": 46,
                    "metadata": {},
                    "output_type": "execute_result"
                }
            ],
            "source": "user_neighborhoods_venues_numbered = user_neighborhoods_venues_sorted.replace(to_replace = unique_venues, value= list(range(1,len(unique_venues)+1)))\nuser_neighborhoods_venues_numbered"
        },
        {
            "cell_type": "markdown",
            "metadata": {},
            "source": "Here we notice, some categories of locations are not present in our categories of venues in Coimbatore. Here we can do two things, either reccommend them not to move to Coimbatore, or set these categories to a 0 value and then predict which location is similar."
        },
        {
            "cell_type": "code",
            "execution_count": 62,
            "metadata": {},
            "outputs": [
                {
                    "data": {
                        "text/plain": "array([[ 1, 22, 24,  0, 23, 19,  0,  4,  0, 34]])"
                    },
                    "execution_count": 62,
                    "metadata": {},
                    "output_type": "execute_result"
                }
            ],
            "source": "X_test = user_neighborhoods_venues_numbered.iloc[:,1:].replace(to_replace='[A-Z a-z]+',value=0,regex=True).values\nX_test"
        },
        {
            "cell_type": "code",
            "execution_count": 63,
            "metadata": {},
            "outputs": [
                {
                    "data": {
                        "text/plain": "array(['Kovaipudur'], dtype=object)"
                    },
                    "execution_count": 63,
                    "metadata": {},
                    "output_type": "execute_result"
                }
            ],
            "source": "tree_classifier.predict(X_test)"
        },
        {
            "cell_type": "code",
            "execution_count": 64,
            "metadata": {},
            "outputs": [
                {
                    "data": {
                        "text/plain": "array(['Kuniyamuthur'], dtype=object)"
                    },
                    "execution_count": 64,
                    "metadata": {},
                    "output_type": "execute_result"
                }
            ],
            "source": "svm_classifier.predict(X_test)"
        },
        {
            "cell_type": "markdown",
            "metadata": {},
            "source": "# Results"
        },
        {
            "cell_type": "markdown",
            "metadata": {},
            "source": "So we have found that, Saibaba Colony or Race Course is most similar to Jafferkhanpet. And Kovaipudur or Kuniyamuthur are most similar to Vikroli. Please feel free to try out other locations as well."
        },
        {
            "cell_type": "markdown",
            "metadata": {},
            "source": "## Discussion\nThe main observation I noted is that Coimbatore doesn't have many categories of locations yet, at least not on the Foursquare API. Due to this, if locations outside India are given, most likely, it will not be able to predict very well due to the different categories of venues.  \nOne more thing to note is that in both examples, the two predictions were different. This is because we are training the model woth very specific data. For each classification we are givning only one row."
        },
        {
            "cell_type": "markdown",
            "metadata": {},
            "source": "## Conclusion\nThis project is a test to see which neighborhood is suitable to move into based on a given user location. It might not be the most accurate, but it works reasonably well, considering I have noticed similarities in Jafferkhanpet, Chennai and Race Course, Coimbatore."
        },
        {
            "cell_type": "code",
            "execution_count": null,
            "metadata": {},
            "outputs": [],
            "source": ""
        }
    ],
    "metadata": {
        "kernelspec": {
            "display_name": "Python 3.6",
            "language": "python",
            "name": "python3"
        },
        "language_info": {
            "codemirror_mode": {
                "name": "ipython",
                "version": 3
            },
            "file_extension": ".py",
            "mimetype": "text/x-python",
            "name": "python",
            "nbconvert_exporter": "python",
            "pygments_lexer": "ipython3",
            "version": "3.6.9"
        }
    },
    "nbformat": 4,
    "nbformat_minor": 1
}